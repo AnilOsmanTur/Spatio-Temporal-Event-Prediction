{
  "nbformat": 4,
  "nbformat_minor": 0,
  "metadata": {
    "colab": {
      "name": "Prediction_with_HMM.ipynb",
      "provenance": [],
      "collapsed_sections": [],
      "authorship_tag": "ABX9TyMN6/K9SJQY57kjZjX+gQVv",
      "include_colab_link": true
    },
    "kernelspec": {
      "name": "python3",
      "display_name": "Python 3"
    },
    "language_info": {
      "name": "python"
    }
  },
  "cells": [
    {
      "cell_type": "markdown",
      "metadata": {
        "id": "view-in-github",
        "colab_type": "text"
      },
      "source": [
        "<a href=\"https://colab.research.google.com/github/AnilOsmanTur/Spatio-Temporal-Event-Prediction/blob/main/Prediction_with_HMM.ipynb\" target=\"_parent\"><img src=\"https://colab.research.google.com/assets/colab-badge.svg\" alt=\"Open In Colab\"/></a>"
      ]
    },
    {
      "cell_type": "markdown",
      "metadata": {
        "id": "c78b_zFaIkhy"
      },
      "source": [
        "Prediction with HMM"
      ]
    },
    {
      "cell_type": "code",
      "metadata": {
        "colab": {
          "base_uri": "https://localhost:8080/"
        },
        "id": "i4X-jTJaIaHu",
        "outputId": "b9ee4132-38b1-4315-d459-0afd5f3bc826"
      },
      "source": [
        "!pip install hmmlearn\n",
        "import numpy as np\n",
        "from hmmlearn import hmm\n",
        "np.random.seed(42) # to make the code reproducable \n",
        "print('imports done')"
      ],
      "execution_count": 57,
      "outputs": [
        {
          "output_type": "stream",
          "text": [
            "Requirement already satisfied: hmmlearn in /usr/local/lib/python3.7/dist-packages (0.2.5)\n",
            "Requirement already satisfied: scipy>=0.19 in /usr/local/lib/python3.7/dist-packages (from hmmlearn) (1.4.1)\n",
            "Requirement already satisfied: numpy>=1.10 in /usr/local/lib/python3.7/dist-packages (from hmmlearn) (1.19.5)\n",
            "Requirement already satisfied: scikit-learn>=0.16 in /usr/local/lib/python3.7/dist-packages (from hmmlearn) (0.22.2.post1)\n",
            "Requirement already satisfied: joblib>=0.11 in /usr/local/lib/python3.7/dist-packages (from scikit-learn>=0.16->hmmlearn) (1.0.1)\n",
            "imports done\n"
          ],
          "name": "stdout"
        }
      ]
    },
    {
      "cell_type": "markdown",
      "metadata": {
        "id": "RMgNA0XWAUCX"
      },
      "source": [
        "## Data Loading and Splitting"
      ]
    },
    {
      "cell_type": "code",
      "metadata": {
        "colab": {
          "base_uri": "https://localhost:8080/"
        },
        "id": "3Oty-zQzIjgh",
        "outputId": "b4160563-e063-4b01-e8dd-094eac8cb226"
      },
      "source": [
        "data = np.load('data.npy')\n",
        "n_sample = data.shape[0]\n",
        "flat_data = data.reshape(n_sample, -1)\n",
        "print('data shape after flattening', flat_data.shape)\n",
        "n_train = int(0.8 * n_sample )\n",
        "n_test = n_sample - n_train\n",
        "train_data = flat_data[:n_train]\n",
        "test_data = flat_data[n_train:]\n",
        "print('Training data split', train_data.shape)\n",
        "print('Testing data split', test_data.shape)"
      ],
      "execution_count": 58,
      "outputs": [
        {
          "output_type": "stream",
          "text": [
            "data shape after flattening (4500, 9)\n",
            "Training data split (3600, 9)\n",
            "Testing data split (900, 9)\n"
          ],
          "name": "stdout"
        }
      ]
    },
    {
      "cell_type": "markdown",
      "metadata": {
        "id": "Pzz_Bav3Ac4u"
      },
      "source": [
        "## Model Training"
      ]
    },
    {
      "cell_type": "code",
      "metadata": {
        "colab": {
          "base_uri": "https://localhost:8080/"
        },
        "id": "--cizdnnI1a9",
        "outputId": "6fe1bbaa-87b2-4a45-8cc2-d129c68c0b73"
      },
      "source": [
        "# model creation and training\n",
        "model = hmm.GaussianHMM(n_components=32,\n",
        "                        covariance_type=\"full\",\n",
        "                        n_iter=100,\n",
        "                        verbose=True)\n",
        "model.fit(train_data)"
      ],
      "execution_count": 59,
      "outputs": [
        {
          "output_type": "stream",
          "text": [
            "         1       -9825.9681             +nan\n",
            "         2       50783.7443      +60609.7125\n",
            "         3      191823.7693     +141040.0250\n",
            "         4      198193.6123       +6369.8430\n",
            "         5      198193.6130          +0.0007\n"
          ],
          "name": "stderr"
        },
        {
          "output_type": "execute_result",
          "data": {
            "text/plain": [
              "GaussianHMM(algorithm='viterbi', covariance_type='full', covars_prior=0.01,\n",
              "            covars_weight=1, init_params='stmc', means_prior=0, means_weight=0,\n",
              "            min_covar=0.001, n_components=32, n_iter=100, params='stmc',\n",
              "            random_state=None, startprob_prior=1.0, tol=0.01,\n",
              "            transmat_prior=1.0, verbose=True)"
            ]
          },
          "metadata": {
            "tags": []
          },
          "execution_count": 59
        }
      ]
    },
    {
      "cell_type": "markdown",
      "metadata": {
        "id": "PKLcViKpAiTl"
      },
      "source": [
        "## Prediction with model"
      ]
    },
    {
      "cell_type": "code",
      "metadata": {
        "id": "YkJxEZ1ppY_9"
      },
      "source": [
        "# Prediction function to predict next data point\n",
        "def predict_next(model, known_data):\n",
        "  state_sequence = model.predict(known_data)\n",
        "  prob_next_step = model.transmat_[state_sequence[-1], :]\n",
        "  t1 = model._generate_sample_from_state(np.argmax(prob_next_step))\n",
        "  t1 = 1/(1 + np.exp(-t1)) # sigmoid to get probablity score like resutls\n",
        "  return t1"
      ],
      "execution_count": 60,
      "outputs": []
    },
    {
      "cell_type": "code",
      "metadata": {
        "id": "AzlKQO6H7iHd"
      },
      "source": [
        "# Distance functions to measure distance between target and prediction\n",
        "def hamming_dist(a, b):\n",
        "  return np.count_nonzero(a!=b)\n",
        "def euclidian_dist(a, b):\n",
        "  return np.linalg.norm(a-b)"
      ],
      "execution_count": 61,
      "outputs": []
    },
    {
      "cell_type": "code",
      "metadata": {
        "colab": {
          "base_uri": "https://localhost:8080/"
        },
        "id": "h2xz49JvpbTo",
        "outputId": "f13ec8a8-fa9b-4e27-ea6c-368694dcdd30"
      },
      "source": [
        "t1 = (predict_next(model, train_data[:5]) > 0.5).astype(np.float)\n",
        "t1"
      ],
      "execution_count": 76,
      "outputs": [
        {
          "output_type": "execute_result",
          "data": {
            "text/plain": [
              "array([0., 0., 0., 1., 0., 0., 1., 1., 0.])"
            ]
          },
          "metadata": {
            "tags": []
          },
          "execution_count": 76
        }
      ]
    },
    {
      "cell_type": "code",
      "metadata": {
        "colab": {
          "base_uri": "https://localhost:8080/"
        },
        "id": "e-uzJ6gOyjhQ",
        "outputId": "919610ae-008a-4032-ab2d-3dffe7f85824"
      },
      "source": [
        "label = train_data[5]\n",
        "label"
      ],
      "execution_count": 77,
      "outputs": [
        {
          "output_type": "execute_result",
          "data": {
            "text/plain": [
              "array([0., 0., 0., 1., 0., 0., 1., 1., 0.])"
            ]
          },
          "metadata": {
            "tags": []
          },
          "execution_count": 77
        }
      ]
    },
    {
      "cell_type": "code",
      "metadata": {
        "colab": {
          "base_uri": "https://localhost:8080/"
        },
        "id": "nXHcisR_y7cE",
        "outputId": "83331142-128e-4e4e-e412-38efb5fcb2c2"
      },
      "source": [
        "euclidian_dist(t1, label)"
      ],
      "execution_count": 78,
      "outputs": [
        {
          "output_type": "execute_result",
          "data": {
            "text/plain": [
              "0.0"
            ]
          },
          "metadata": {
            "tags": []
          },
          "execution_count": 78
        }
      ]
    },
    {
      "cell_type": "code",
      "metadata": {
        "colab": {
          "base_uri": "https://localhost:8080/"
        },
        "id": "atvkiLMj6Tdj",
        "outputId": "bf5053b3-edb6-480f-eb07-1d43a4431940"
      },
      "source": [
        "hamming_dist(t1, label)"
      ],
      "execution_count": 79,
      "outputs": [
        {
          "output_type": "execute_result",
          "data": {
            "text/plain": [
              "0"
            ]
          },
          "metadata": {
            "tags": []
          },
          "execution_count": 79
        }
      ]
    },
    {
      "cell_type": "markdown",
      "metadata": {
        "id": "9wq0CSYoAMnt"
      },
      "source": [
        "## Test Case Generations"
      ]
    },
    {
      "cell_type": "code",
      "metadata": {
        "id": "4zg220iP7_wu"
      },
      "source": [
        "test_idx = np.random.randint(5, n_test, size=100)\n",
        "start_idx = test_idx-5"
      ],
      "execution_count": 83,
      "outputs": []
    },
    {
      "cell_type": "code",
      "metadata": {
        "colab": {
          "base_uri": "https://localhost:8080/"
        },
        "id": "I6vHpqlK9YYP",
        "outputId": "5c8d8119-c005-4c9f-d7f4-3352ed08cab0"
      },
      "source": [
        "\n",
        "test_cases = [test_data[start:end] for start, end in zip(start_idx,test_idx)]\n",
        "test_labels = test_data[test_idx]\n",
        "print(len(test_cases))\n",
        "print(test_labels.shape)"
      ],
      "execution_count": 85,
      "outputs": [
        {
          "output_type": "stream",
          "text": [
            "100\n",
            "(100, 9)\n"
          ],
          "name": "stdout"
        }
      ]
    },
    {
      "cell_type": "code",
      "metadata": {
        "colab": {
          "base_uri": "https://localhost:8080/"
        },
        "id": "tLEAoaNO9aWk",
        "outputId": "15259bf5-424e-4305-df9c-97403907ad8e"
      },
      "source": [
        "dists = []\n",
        "for label, a_case in zip(test_labels, test_cases):\n",
        "  t1 = (predict_next(model, a_case) > 0.5).astype(np.float)\n",
        "  e_dist = euclidian_dist(t1, label)\n",
        "  h_dist = hamming_dist(t1, label)\n",
        "  dists.append([e_dist, h_dist])\n",
        "\n",
        "print('prediction done')"
      ],
      "execution_count": 86,
      "outputs": [
        {
          "output_type": "stream",
          "text": [
            "prediction done\n"
          ],
          "name": "stdout"
        }
      ]
    },
    {
      "cell_type": "code",
      "metadata": {
        "id": "NQUDvfcV_T-3"
      },
      "source": [
        "%matplotlib inline\n",
        "import matplotlib.pyplot as plt"
      ],
      "execution_count": 87,
      "outputs": []
    },
    {
      "cell_type": "code",
      "metadata": {
        "colab": {
          "base_uri": "https://localhost:8080/"
        },
        "id": "NbDYSOGb_UxV",
        "outputId": "0f0f9aee-9aaa-4bff-8067-81c0aa6a1913"
      },
      "source": [
        "dists = np.array(dists)\n",
        "print('Average distances:')\n",
        "d_means = np.mean(dists, axis=0)\n",
        "print('Euclidian:', d_means[0])\n",
        "print('Hamming  :', d_means[1])"
      ],
      "execution_count": 94,
      "outputs": [
        {
          "output_type": "stream",
          "text": [
            "Average distances:\n",
            "Euclidian: 1.4873705325979736\n",
            "Hamming  : 3.2\n"
          ],
          "name": "stdout"
        }
      ]
    },
    {
      "cell_type": "code",
      "metadata": {
        "colab": {
          "base_uri": "https://localhost:8080/",
          "height": 302
        },
        "id": "t_5kC6cbAvDZ",
        "outputId": "7284f347-9fc5-4ae5-fe82-73a445be04b2"
      },
      "source": [
        "plt.plot(dists)"
      ],
      "execution_count": 93,
      "outputs": [
        {
          "output_type": "execute_result",
          "data": {
            "text/plain": [
              "[<matplotlib.lines.Line2D at 0x7fca54697fd0>,\n",
              " <matplotlib.lines.Line2D at 0x7fca546a4210>]"
            ]
          },
          "metadata": {
            "tags": []
          },
          "execution_count": 93
        },
        {
          "output_type": "display_data",
          "data": {
            "image/png": "[encoded data removed]",
            "text/plain": [
              "<Figure size 432x288 with 1 Axes>"
            ]
          },
          "metadata": {
            "tags": [],
            "needs_background": "light"
          }
        }
      ]
    }
  ]
}